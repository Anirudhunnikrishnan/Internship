{
 "cells": [
  {
   "cell_type": "markdown",
   "id": "5b52ad01-fb76-44c5-953c-97a38ea22213",
   "metadata": {},
   "source": [
    "Write a python program to find the factorial of a number.\n"
   ]
  },
  {
   "cell_type": "code",
   "execution_count": 9,
   "id": "0b6ee811-2769-430a-98e2-c763589b1337",
   "metadata": {},
   "outputs": [],
   "source": [
    "def factorial(n):\n",
    "    if n < 0:\n",
    "        return \"Factorial is not defined for negative numbers.\"\n",
    "    result = 1\n",
    "    for i in range(1, n + 1):\n",
    "        result *= i\n",
    "    return result\n"
   ]
  },
  {
   "cell_type": "code",
   "execution_count": 11,
   "id": "baabe063-4419-4a55-9b3d-5c8acb6fff5a",
   "metadata": {},
   "outputs": [
    {
     "name": "stdin",
     "output_type": "stream",
     "text": [
      "enter the number 3\n"
     ]
    },
    {
     "data": {
      "text/plain": [
       "6"
      ]
     },
     "execution_count": 11,
     "metadata": {},
     "output_type": "execute_result"
    }
   ],
   "source": [
    "factorial(int(input(\"enter the number\")))"
   ]
  },
  {
   "cell_type": "markdown",
   "id": "67b33036-7bbd-42ea-b7b5-c0d16b5ed20f",
   "metadata": {},
   "source": [
    " Write a python program to find whether a number is prime or composite.\n"
   ]
  },
  {
   "cell_type": "code",
   "execution_count": 27,
   "id": "c00fc76a-b86d-4453-b8f3-3ce800056070",
   "metadata": {},
   "outputs": [
    {
     "name": "stdin",
     "output_type": "stream",
     "text": [
      "enter the number 7\n"
     ]
    },
    {
     "name": "stdout",
     "output_type": "stream",
     "text": [
      "7 is a prime number\n"
     ]
    }
   ],
   "source": [
    "num = int(input(\"enter the number\"))\n",
    "\n",
    "if num > 1:\n",
    "  \n",
    "    for i in range(2, (num//2)+1):\n",
    "      \n",
    "\n",
    "        if (num % i) == 0:\n",
    "            print(num, \"is not a prime number\")\n",
    "            break\n",
    "    else:\n",
    "        print(num, \"is a prime number\")\n",
    "else:\n",
    "    print(num, \"is not a prime number\")"
   ]
  },
  {
   "cell_type": "markdown",
   "id": "a6e7158e-b8ff-4d97-b2a2-b5c449ec1d22",
   "metadata": {},
   "source": [
    "Write a python program to check whether a given string is palindrome or not.\n"
   ]
  },
  {
   "cell_type": "code",
   "execution_count": 29,
   "id": "b95c7f3f-08ab-4698-8575-b30507c80890",
   "metadata": {},
   "outputs": [
    {
     "name": "stdin",
     "output_type": "stream",
     "text": [
      "Enter a string:  malayalam\n"
     ]
    },
    {
     "name": "stdout",
     "output_type": "stream",
     "text": [
      "\"malayalam\" is a palindrome.\n"
     ]
    }
   ],
   "source": [
    "\n",
    "def palindrome(s):\n",
    "    cleaned_string = s.replace(\" \", \"\").lower()\n",
    "    return cleaned_string == cleaned_string[::-1]\n",
    "    \n",
    "\n",
    "A = input(\"Enter a string: \")\n",
    "if is_palindrome(input_string):\n",
    "    print(f'\"{input_string}\" is a palindrome.')\n",
    "else:\n",
    "    print(f'\"{input_string}\" is not a palindrome.')"
   ]
  },
  {
   "cell_type": "markdown",
   "id": "b9ebda8b-518d-4b63-93dd-ee685df90fcc",
   "metadata": {},
   "source": [
    " Write a Python program to get the third side of right-angled triangle from two given sides.\n"
   ]
  },
  {
   "cell_type": "code",
   "execution_count": 38,
   "id": "a18d3824-a27f-4cc6-bf0c-603061fb5429",
   "metadata": {},
   "outputs": [
    {
     "name": "stdin",
     "output_type": "stream",
     "text": [
      "Enter the length of the first side:  2\n",
      "Enter the length of the second side:  4\n"
     ]
    },
    {
     "name": "stdout",
     "output_type": "stream",
     "text": [
      "The length of the third side (hypotenuse) is: 4.47\n"
     ]
    }
   ],
   "source": [
    "def  Pythagoreantheorem(a, b):\n",
    "    return math.sqrt(a**2 + b**2)\n",
    "\n",
    "x= float(input(\"Enter the length of the first side: \"))\n",
    "y = float(input(\"Enter the length of the second side: \"))\n",
    "\n",
    "hypotenuse = Pythagorean theorem(x,y)\n",
    "\n",
    "print(f\"The length of the third side (hypotenuse) is: {hypotenuse:.2f}\")"
   ]
  },
  {
   "cell_type": "markdown",
   "id": "87ba0482-9635-4ff1-a5f9-61226c616bc1",
   "metadata": {},
   "source": [
    " Write a python program to print the frequency of each of the characters present in a given string.\n",
    " \n"
   ]
  },
  {
   "cell_type": "code",
   "execution_count": 41,
   "id": "62206d7e-d87b-49aa-9fa0-415830bbd187",
   "metadata": {},
   "outputs": [
    {
     "name": "stdin",
     "output_type": "stream",
     "text": [
      "Enter a string:  edwecwedwedwedwefwedwd\n"
     ]
    },
    {
     "name": "stdout",
     "output_type": "stream",
     "text": [
      "Character frequency in the given string:\n",
      "'e': 7\n",
      "'d': 6\n",
      "'w': 7\n",
      "'c': 1\n",
      "'f': 1\n"
     ]
    }
   ],
   "source": [
    "def char_freq(k):\n",
    "    frequency = {}\n",
    "    \n",
    "    for char in k:\n",
    "      \n",
    "        if char != \" \":\n",
    "            if char in frequency:\n",
    "                frequency[char] += 1  \n",
    "            else:\n",
    "                frequency[char] = 1 \n",
    "\n",
    "    return frequency\n",
    "\n",
    "\n",
    "input_string = input(\"Enter a string: \")\n",
    "freq_dict = char_freq(input_string)\n",
    "\n",
    "print(\"Character frequency in the given string:\")\n",
    "for char, count in freq_dict.items():\n",
    "    print(f\"'{char}': {count}\")"
   ]
  },
  {
   "cell_type": "code",
   "execution_count": null,
   "id": "bb5ce8e6-54e6-4ac6-8e93-9dae007674ad",
   "metadata": {},
   "outputs": [],
   "source": []
  }
 ],
 "metadata": {
  "kernelspec": {
   "display_name": "Python 3 (ipykernel)",
   "language": "python",
   "name": "python3"
  },
  "language_info": {
   "codemirror_mode": {
    "name": "ipython",
    "version": 3
   },
   "file_extension": ".py",
   "mimetype": "text/x-python",
   "name": "python",
   "nbconvert_exporter": "python",
   "pygments_lexer": "ipython3",
   "version": "3.12.4"
  }
 },
 "nbformat": 4,
 "nbformat_minor": 5
}
